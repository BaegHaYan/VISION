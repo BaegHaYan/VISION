{
 "cells": [
  {
   "cell_type": "code",
   "execution_count": 3,
   "id": "3fd8ffb3",
   "metadata": {},
   "outputs": [],
   "source": [
    "import os\n",
    "import json\n",
    "import cv2\n",
    "from PIL import Image\n",
    "from tqdm import tqdm\n",
    "from glob import glob\n",
    "\n",
    "import torch\n",
    "import torch.nn as nn\n",
    "import torchvision\n",
    "from torch.utils.data import Dataset\n",
    "from torchvision import transforms"
   ]
  },
  {
   "cell_type": "code",
   "execution_count": null,
   "id": "bf704aa3",
   "metadata": {},
   "outputs": [],
   "source": [
    "class BaegDataset(Dataset):\n",
    "    def __init__(self ,mode = 'train', transform = None):\n",
    "        self.mode = mode\n",
    "        # image dataset\n",
    "        # image dataset 병합\n",
    "        upset_list = glob(\"/data/Emotion_data/Training/upset/*\")\n",
    "        pleasure_list = glob(\"/data/Emotion_data/Training/pleasure/*\")\n",
    "        hurt_list = glob(\"/data/Emotion_data/Training/hurt/*\")\n",
    "        anger_list = glob(\"/data/Emotion_data/Training/anger/*\")\n",
    "        unrest_list = glob(\"/data/Emotion_data/Training/unrest/*\")\n",
    "        sad_list = glob(\"/data/Emotion_data/Training/sad/*\")\n",
    "        neutrality_list = glob(\"/data/Emotion_data/Training/neutrality/*\")\n",
    "        self.data_list = upset_list + pleasure_list + anger_list + unrest_list + sad_list + neutrality_list\n",
    "        \n",
    "        # json dataset\n",
    "        self.label_list = glob(\"/data/Emotion_data/Training/label/*\")\n",
    "    \n",
    "    def __len__(self):\n",
    "        return len(self.data_list)\n",
    "    \n",
    "    def __getitem__(self, idx):\n",
    "        # load images and mask\n",
    "        img_path = self.data_list[idx]\n",
    "        img = Image.open(img_path).convert(\"RGB\")\n",
    "        \n",
    "        # 1. filename만 따로 빼서 for문 돌려서 json_list에 있는 것과 비교\n",
    "        for json_list in label_list:\n",
    "            with open(json_list, 'r') as f:\n",
    "                json_data = json.load(f)\n",
    "                for i in range(0, len(json_data)):\n",
    "                    filename = json_data[i]['filename']\n",
    "                    if filename "
   ]
  }
 ],
 "metadata": {
  "kernelspec": {
   "display_name": "Python 3 (ipykernel)",
   "language": "python",
   "name": "python3"
  },
  "language_info": {
   "codemirror_mode": {
    "name": "ipython",
    "version": 3
   },
   "file_extension": ".py",
   "mimetype": "text/x-python",
   "name": "python",
   "nbconvert_exporter": "python",
   "pygments_lexer": "ipython3",
   "version": "3.8.0"
  }
 },
 "nbformat": 4,
 "nbformat_minor": 5
}
